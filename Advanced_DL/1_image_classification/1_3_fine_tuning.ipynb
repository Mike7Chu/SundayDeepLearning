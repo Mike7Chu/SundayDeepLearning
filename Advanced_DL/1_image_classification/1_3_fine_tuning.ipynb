{
 "cells": [
  {
   "cell_type": "markdown",
   "metadata": {},
   "source": [
    "# 1.5 「파인튜닝」정밀도 향상을 실현하는 방법\n",
    "\n",
    "- pre_train된 VGG모델을 통해 미세 조정을 진행하여 개미, 꿀 이미지를 분류\n",
    "\n"
   ]
  },
  {
   "cell_type": "markdown",
   "metadata": {},
   "source": [
    "# 학습목표\n",
    "\n",
    "1.\tPyTorch에서 GPU를 사용하는 코드 작성\n",
    "2.\t최적화 기법의 설정에서 층마다 다른 학습류을 설정한 파인튜닝 구현\n",
    "3.\t학습한 네트워클 저장하고 로드\n",
    "\n"
   ]
  },
  {
   "cell_type": "code",
   "execution_count": 3,
   "metadata": {},
   "outputs": [],
   "source": [
    "# 함수 import\n",
    "import numpy as np\n",
    "import random\n",
    "\n",
    "import torch\n",
    "import torch.nn as nn\n",
    "import torch.optim as optim\n",
    "\n",
    "from torchvision import models\n",
    "\n",
    "from tqdm import tqdm"
   ]
  },
  {
   "cell_type": "code",
   "execution_count": 4,
   "metadata": {},
   "outputs": [],
   "source": [
    "# 랜덤시드 설정\n",
    "torch.manual_seed(1234)\n",
    "np.random.seed(1234)\n",
    "random.seed(1234)"
   ]
  },
  {
   "cell_type": "markdown",
   "metadata": {},
   "source": [
    "# Dataset과 DataLoader 작성"
   ]
  },
  {
   "cell_type": "code",
   "execution_count": 5,
   "metadata": {},
   "outputs": [
    {
     "name": "stdout",
     "output_type": "stream",
     "text": [
      "./data/hymenoptera_data/train/**/*.jpg\n",
      "./data/hymenoptera_data/val/**/*.jpg\n"
     ]
    }
   ],
   "source": [
    "# 미리 작성한 utils 폴더의 make_dataset_dataloader.py에 기재하여 사용\n",
    "from utils.dataloader_image_classification import ImageTransform, make_datapath_list, HymenopteraDataset\n",
    "\n",
    "# 개미와 벌의 이미지 파일 경로 리스트 작성\n",
    "train_list = make_datapath_list(phase=\"train\")\n",
    "val_list = make_datapath_list(phase=\"val\")\n",
    "\n",
    "# Dataset 작성\n",
    "size = 224\n",
    "mean = (0.485, 0.456, 0.406)\n",
    "std = (0.229, 0.224, 0.225)\n",
    "train_dataset = HymenopteraDataset(\n",
    "    file_list=train_list, transform=ImageTransform(size, mean, std), phase='train')\n",
    "\n",
    "val_dataset = HymenopteraDataset(\n",
    "    file_list=val_list, transform=ImageTransform(size, mean, std), phase='val')\n",
    "\n",
    "\n",
    "# DataLoader\n",
    "batch_size = 32\n",
    "\n",
    "train_dataloader = torch.utils.data.DataLoader(\n",
    "    train_dataset, batch_size=batch_size, shuffle=True)\n",
    "\n",
    "val_dataloader = torch.utils.data.DataLoader(\n",
    "    val_dataset, batch_size=batch_size, shuffle=False)\n",
    "\n",
    "# dict 객체에 정리\n",
    "dataloaders_dict = {\"train\": train_dataloader, \"val\": val_dataloader}\n"
   ]
  },
  {
   "cell_type": "markdown",
   "metadata": {},
   "source": [
    "# 네트워크 모델 설정"
   ]
  },
  {
   "cell_type": "code",
   "execution_count": 6,
   "metadata": {},
   "outputs": [
    {
     "name": "stdout",
     "output_type": "stream",
     "text": [
      "네트워크 설정 완료：학습된 가중치를 읽어들여 훈련 모드 설정 완료\n"
     ]
    }
   ],
   "source": [
    "# 학습된 VGG-16 로드\n",
    "\n",
    "# VGG-16의 인스턴스 생성\n",
    "use_pretrained = True  # 학스된 파라미터 사용\n",
    "vgg16_net = models.vgg16(pretrained=use_pretrained)\n",
    "\n",
    "# VGG16의 마지막 출력층의 출력 유닛을 개미와 벌 두 개로 변경\n",
    "vgg16_net.classifier[6] = nn.Linear(in_features=4096, out_features=2)\n",
    "\n",
    "# 훈련 모드로 설정\n",
    "vgg16_net.train()\n",
    "\n",
    "print('네트워크 설정 완료：학습된 가중치를 읽어들여 훈련 모드 설정 완료')\n"
   ]
  },
  {
   "cell_type": "markdown",
   "metadata": {},
   "source": [
    "# 손실함수 정의"
   ]
  },
  {
   "cell_type": "code",
   "execution_count": 7,
   "metadata": {},
   "outputs": [],
   "source": [
    "# 손실함수 정의\n",
    "criterion = nn.CrossEntropyLoss()"
   ]
  },
  {
   "cell_type": "markdown",
   "metadata": {},
   "source": [
    "# 최적화 방법 설정"
   ]
  },
  {
   "cell_type": "code",
   "execution_count": 8,
   "metadata": {},
   "outputs": [
    {
     "name": "stdout",
     "output_type": "stream",
     "text": [
      "params_to_update_1에 저장： features.0.weight\n",
      "params_to_update_1에 저장： features.0.bias\n",
      "params_to_update_1에 저장： features.2.weight\n",
      "params_to_update_1에 저장： features.2.bias\n",
      "params_to_update_1에 저장： features.5.weight\n",
      "params_to_update_1에 저장： features.5.bias\n",
      "params_to_update_1에 저장： features.7.weight\n",
      "params_to_update_1에 저장： features.7.bias\n",
      "params_to_update_1에 저장： features.10.weight\n",
      "params_to_update_1에 저장： features.10.bias\n",
      "params_to_update_1에 저장： features.12.weight\n",
      "params_to_update_1에 저장： features.12.bias\n",
      "params_to_update_1에 저장： features.14.weight\n",
      "params_to_update_1에 저장： features.14.bias\n",
      "params_to_update_1에 저장： features.17.weight\n",
      "params_to_update_1에 저장： features.17.bias\n",
      "params_to_update_1에 저장： features.19.weight\n",
      "params_to_update_1에 저장： features.19.bias\n",
      "params_to_update_1에 저장： features.21.weight\n",
      "params_to_update_1에 저장： features.21.bias\n",
      "params_to_update_1에 저장： features.24.weight\n",
      "params_to_update_1에 저장： features.24.bias\n",
      "params_to_update_1에 저장： features.26.weight\n",
      "params_to_update_1에 저장： features.26.bias\n",
      "params_to_update_1에 저장： features.28.weight\n",
      "params_to_update_1에 저장： features.28.bias\n",
      "params_to_update_2에 저장： classifier.0.weight\n",
      "params_to_update_2에 저장： classifier.0.bias\n",
      "params_to_update_2에 저장： classifier.3.weight\n",
      "params_to_update_2에 저장： classifier.3.bias\n",
      "params_to_update_3에 저장： classifier.6.weight\n",
      "params_to_update_3에 저장： classifier.6.bias\n"
     ]
    }
   ],
   "source": [
    "# 파인튜닝으로 학습할 파라미터를 params_to_update 변수의 1~3에 저장\n",
    "\n",
    "params_to_update_1 = []\n",
    "params_to_update_2 = []\n",
    "params_to_update_3 = []\n",
    "\n",
    "# 학습시킬 층의 파라미터명 지정\n",
    "update_param_names_1 = [\"features\"]\n",
    "update_param_names_2 = [\"classifier.0.weight\",\n",
    "                        \"classifier.0.bias\", \"classifier.3.weight\", \"classifier.3.bias\"]\n",
    "update_param_names_3 = [\"classifier.6.weight\", \"classifier.6.bias\"]\n",
    "\n",
    "# 파라미터를 각 리스트에 저장\n",
    "for name, param in vgg16_net.named_parameters():\n",
    "    if update_param_names_1[0] in name:\n",
    "        param.requires_grad = True\n",
    "        params_to_update_1.append(param)\n",
    "        print(\"params_to_update_1에 저장：\", name)\n",
    "\n",
    "    elif name in update_param_names_2:\n",
    "        param.requires_grad = True\n",
    "        params_to_update_2.append(param)\n",
    "        print(\"params_to_update_2에 저장：\", name)\n",
    "\n",
    "    elif name in update_param_names_3:\n",
    "        param.requires_grad = True\n",
    "        params_to_update_3.append(param)\n",
    "        print(\"params_to_update_3에 저장：\", name)\n",
    "\n",
    "    else:\n",
    "        param.requires_grad = False\n",
    "        print(\"경사 계산 없음. 학습하지 않음：\", name)\n"
   ]
  },
  {
   "cell_type": "code",
   "execution_count": 9,
   "metadata": {},
   "outputs": [],
   "source": [
    "# 최적화 방법 설정\n",
    "# 각 파라미터마다 learning_rate를 다르게 부여\n",
    "optimizer = optim.SGD([\n",
    "    {'params': params_to_update_1, 'lr': 1e-4}, # 0.0001\n",
    "    {'params': params_to_update_2, 'lr': 5e-4}, # 0.0005\n",
    "    {'params': params_to_update_3, 'lr': 1e-3}  # 0.001\n",
    "], momentum=0.9)\n"
   ]
  },
  {
   "cell_type": "markdown",
   "metadata": {},
   "source": [
    "# 학습 및 검증 실시"
   ]
  },
  {
   "cell_type": "code",
   "execution_count": 10,
   "metadata": {},
   "outputs": [],
   "source": [
    "# 학슴 함수 작성\n",
    "\n",
    "\n",
    "def train_model(net, dataloaders_dict, criterion, optimizer, num_epochs):\n",
    "\n",
    "    # 초기 설정\n",
    "    # GPU세팅 진행\n",
    "    device = torch.device(\"cuda:0\" if torch.cuda.is_available() else \"cpu\")\n",
    "    print(\"사용 장치：\", device)\n",
    "\n",
    "    # GPU 설정\n",
    "    vgg16_net.to(device)\n",
    "\n",
    "    # 네트워크가 어느 정도 고정되면 고속화시킴\n",
    "    torch.backends.cudnn.benchmark = True\n",
    "\n",
    "    # epoch 루프 진행\n",
    "    for epoch in range(num_epochs):\n",
    "        print('Epoch {}/{}'.format(epoch+1, num_epochs))\n",
    "        print('-------------')\n",
    "\n",
    "        # epoch별 훈련 및 검증 루프\n",
    "        for phase in ['train', 'val']:\n",
    "            if phase == 'train':\n",
    "                vgg16_net.train()  # 훈련 모드\n",
    "            else:\n",
    "                vgg16_net.eval()   # 검증 모드\n",
    "\n",
    "            epoch_loss = 0.0  # epoch 손실 합\n",
    "            epoch_corrects = 0  # epoch 정답 합\n",
    "\n",
    "            # 학습하지 않을 때의 검증 확인을 위해、epoch=0 훈련 생략\n",
    "            if (epoch == 0) and (phase == 'train'):\n",
    "                continue\n",
    "\n",
    "            # 데이터 로더에서 미니 배치를 꺼내 루프\n",
    "            for inputs, labels in tqdm(dataloaders_dict[phase]):\n",
    "\n",
    "                # GPU 사용\n",
    "                inputs = inputs.to(device)\n",
    "                labels = labels.to(device)\n",
    "\n",
    "                # optimizer 초기화\n",
    "                optimizer.zero_grad()\n",
    "\n",
    "                # forward계산\n",
    "                with torch.set_grad_enabled(phase == 'train'):\n",
    "                    outputs = net(inputs)\n",
    "                    loss = criterion(outputs, labels)  # 손실 계산\n",
    "                    _, preds = torch.max(outputs, 1)  # 라벨 예측\n",
    "\n",
    "                    # 훈련 시에 bacward 진행\n",
    "                    if phase == 'train':\n",
    "                        loss.backward()\n",
    "                        optimizer.step()\n",
    "\n",
    "                    # 결과 계산\n",
    "                    epoch_loss += loss.item() * inputs.size(0)  # loss 합계 갱신\n",
    "                    # 정답 수의 합계 갱신\n",
    "                    epoch_corrects += torch.sum(preds == labels.data)\n",
    "\n",
    "            # epoch별 loss와 정답률 표시\n",
    "            epoch_loss = epoch_loss / len(dataloaders_dict[phase].dataset)\n",
    "            epoch_acc = epoch_corrects.double(\n",
    "            ) / len(dataloaders_dict[phase].dataset)\n",
    "\n",
    "            print('{} Loss: {:.4f} Acc: {:.4f}'.format(\n",
    "                phase, epoch_loss, epoch_acc))\n"
   ]
  },
  {
   "cell_type": "code",
   "execution_count": 12,
   "metadata": {},
   "outputs": [
    {
     "name": "stdout",
     "output_type": "stream",
     "text": [
      "사용 장치： cuda:0\n",
      "Epoch 1/2\n",
      "-------------\n"
     ]
    },
    {
     "name": "stderr",
     "output_type": "stream",
     "text": [
      "100%|████████████████████████████████████████████████████████████████████████████████████| 5/5 [00:06<00:00,  1.25s/it]\n"
     ]
    },
    {
     "name": "stdout",
     "output_type": "stream",
     "text": [
      "val Loss: 0.7704 Acc: 0.4444\n",
      "Epoch 2/2\n",
      "-------------\n"
     ]
    },
    {
     "name": "stderr",
     "output_type": "stream",
     "text": [
      "100%|████████████████████████████████████████████████████████████████████████████████████| 8/8 [00:08<00:00,  1.01s/it]\n"
     ]
    },
    {
     "name": "stdout",
     "output_type": "stream",
     "text": [
      "train Loss: 0.5051 Acc: 0.7325\n"
     ]
    },
    {
     "name": "stderr",
     "output_type": "stream",
     "text": [
      "100%|████████████████████████████████████████████████████████████████████████████████████| 5/5 [00:01<00:00,  3.03it/s]"
     ]
    },
    {
     "name": "stdout",
     "output_type": "stream",
     "text": [
      "val Loss: 0.1829 Acc: 0.9608\n"
     ]
    },
    {
     "name": "stderr",
     "output_type": "stream",
     "text": [
      "\n"
     ]
    }
   ],
   "source": [
    "# 학습 및 검증 실행\n",
    "num_epochs=2\n",
    "train_model(vgg16_net, dataloaders_dict, criterion, optimizer, num_epochs=num_epochs)\n"
   ]
  },
  {
   "cell_type": "markdown",
   "metadata": {},
   "source": [
    "# 학습한 네트워크 저장 및 로드"
   ]
  },
  {
   "cell_type": "code",
   "execution_count": 14,
   "metadata": {},
   "outputs": [],
   "source": [
    "# PyTorch 네트워크 파라미터 저장\n",
    "save_path = './weights_fine_tuning.pth'\n",
    "torch.save(vgg16_net.state_dict(), save_path)\n"
   ]
  },
  {
   "cell_type": "code",
   "execution_count": 16,
   "metadata": {},
   "outputs": [
    {
     "data": {
      "text/plain": [
       "<All keys matched successfully>"
      ]
     },
     "execution_count": 16,
     "metadata": {},
     "output_type": "execute_result"
    }
   ],
   "source": [
    "# PyTorch네트워크 파라미터 로드\n",
    "load_path = './weights_fine_tuning.pth'\n",
    "load_weights = torch.load(load_path)\n",
    "vgg16_net.load_state_dict(load_weights)\n",
    "\n",
    "# GPU 상에 저장된 가중치를 cpu로 로드할 경우\n",
    "load_weights = torch.load(load_path, map_location={'cuda:0': 'cpu'})\n",
    "vgg16_net.load_state_dict(load_weights)\n"
   ]
  }
 ],
 "metadata": {
  "kernelspec": {
   "display_name": "Python 3 (ipykernel)",
   "language": "python",
   "name": "python3"
  },
  "language_info": {
   "codemirror_mode": {
    "name": "ipython",
    "version": 3
   },
   "file_extension": ".py",
   "mimetype": "text/x-python",
   "name": "python",
   "nbconvert_exporter": "python",
   "pygments_lexer": "ipython3",
   "version": "3.7.11"
  },
  "toc": {
   "base_numbering": 1,
   "nav_menu": {},
   "number_sections": true,
   "sideBar": true,
   "skip_h1_title": false,
   "title_cell": "Table of Contents",
   "title_sidebar": "Contents",
   "toc_cell": false,
   "toc_position": {},
   "toc_section_display": true,
   "toc_window_display": false
  }
 },
 "nbformat": 4,
 "nbformat_minor": 2
}
